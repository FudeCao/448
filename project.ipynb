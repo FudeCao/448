{
 "cells": [
  {
   "cell_type": "code",
   "execution_count": 2,
   "metadata": {},
   "outputs": [
    {
     "name": "stderr",
     "output_type": "stream",
     "text": [
      "C:\\Users\\cfd1208\\AppData\\Local\\Temp\\ipykernel_5320\\3993506625.py:45: FutureWarning: A value is trying to be set on a copy of a DataFrame or Series through chained assignment using an inplace method.\n",
      "The behavior will change in pandas 3.0. This inplace method will never work because the intermediate object on which we are setting values always behaves as a copy.\n",
      "\n",
      "For example, when doing 'df[col].method(value, inplace=True)', try using 'df.method({col: value}, inplace=True)' or df[col] = df[col].method(value) instead, to perform the operation inplace on the original object.\n",
      "\n",
      "\n",
      "  df_mental['DPQ020'].fillna(median_value, inplace=True)\n",
      "C:\\Users\\cfd1208\\AppData\\Local\\Temp\\ipykernel_5320\\3993506625.py:52: FutureWarning: A value is trying to be set on a copy of a DataFrame or Series through chained assignment using an inplace method.\n",
      "The behavior will change in pandas 3.0. This inplace method will never work because the intermediate object on which we are setting values always behaves as a copy.\n",
      "\n",
      "For example, when doing 'df[col].method(value, inplace=True)', try using 'df.method({col: value}, inplace=True)' or df[col] = df[col].method(value) instead, to perform the operation inplace on the original object.\n",
      "\n",
      "\n",
      "  df_mental['DPQ030'].fillna(median_value, inplace=True)\n",
      "C:\\Users\\cfd1208\\AppData\\Local\\Temp\\ipykernel_5320\\3993506625.py:55: FutureWarning: A value is trying to be set on a copy of a DataFrame or Series through chained assignment using an inplace method.\n",
      "The behavior will change in pandas 3.0. This inplace method will never work because the intermediate object on which we are setting values always behaves as a copy.\n",
      "\n",
      "For example, when doing 'df[col].method(value, inplace=True)', try using 'df.method({col: value}, inplace=True)' or df[col] = df[col].method(value) instead, to perform the operation inplace on the original object.\n",
      "\n",
      "\n",
      "  df_mental['DPQ050'].fillna(median_value, inplace=True)\n",
      "C:\\Users\\cfd1208\\AppData\\Local\\Temp\\ipykernel_5320\\3993506625.py:19: UserWarning: xport file may be corrupted.\n",
      "  return pd.read_sas(filename)\n",
      "C:\\Users\\cfd1208\\AppData\\Local\\Temp\\ipykernel_5320\\3993506625.py:19: UserWarning: xport file may be corrupted.\n",
      "  return pd.read_sas(filename)\n"
     ]
    }
   ],
   "source": [
    "import pandas as pd\n",
    "import matplotlib.pyplot as plt\n",
    "import seaborn as sb\n",
    "#DEMO-demographic\n",
    "#DIQ-diabetes\n",
    "\n",
    "#DBQ-diet behavior\n",
    "#SMQ-smoker\n",
    "#SMQRTU-tabacco smoker\n",
    "#SMQSHS-second hand smoker\n",
    "#ALQ-alcohol\n",
    "#PAQ-phyisical activity\n",
    "#DPQ-mental health (depression)\n",
    "#SLQ-sleep disorder\n",
    "#OCQ-occupation\n",
    "#DR1TOT-nutrition intake\n",
    "\n",
    "def read_as_df(filename):\n",
    "    return pd.read_sas(filename)\n",
    "\n",
    "df_demo= read_as_df('P_DEMO.xpt')[['SEQN','RIDRETH3']]\n",
    "#1mexican american, 2hispanic,3white,4black,6asian,7other\n",
    "\n",
    "df_diabetes=read_as_df('P_DIQ.xpt')[['SEQN','DIQ010']]#1 yes, 2 no, 3 boarder\n",
    "df_diet=read_as_df('P_DBQ.XPT')[['SEQN', 'DBQ700', 'DBD910']]\n",
    "#DBQ700how health is the diet 1excellent,...5poor\n",
    "#num of frozen meals and pizza \n",
    "\n",
    "df_smoke=read_as_df('P_SMQ.XPT')[['SEQN','SMQ040']]#1 everyday,2somedays,3no,missing-no\n",
    "df_alcohol=read_as_df('P_ALQ.XPT')[['SEQN','ALQ121']]#how often drink alcohol,0-10,missing-never drink\n",
    "df_activity=read_as_df('P_PAQ.XPT')[['SEQN','PAD615','PAD630']]\n",
    "#615-minutes vigorous work per day,10-900, missing-no work \n",
    "#630-minutes moderate work,10-900, missing-no work\n",
    "\n",
    "df_nutri=read_as_df('P_DR1TOT.XPT') [['SEQN','DR1TSUGR', 'DR1TSFAT']]\n",
    "#DR1TSUGR-total sugar intake(gm) 0-936\n",
    "#DR1TSFAT-Total saturated fatty acids (gm) 0-268\n",
    "\n",
    "df_mental=read_as_df('P_DPQ.XPT')[['SEQN','DPQ020','DPQ030','DPQ050']]\n",
    "# 020: Feeling down, depressed, or hopeless \n",
    "# 030: Trouble sleeping or sleeping too much\n",
    "# 050: Poor appetite or overeating\n",
    "# 0 never, 1 serveral days, 2 more than half the days, 3 everyday\n",
    "median_value = df_mental['DPQ020'].median()\n",
    "df_mental['DPQ020'].fillna(median_value, inplace=True)\n",
    "#DPQ-mental health (depression)\n",
    "#SLQ-sleep disorder\n",
    "#OCQ-occupation\n",
    "#DR1TOT-nutrition intake\n",
    "\n",
    "median_value = df_mental['DPQ030'].median()\n",
    "df_mental['DPQ030'].fillna(median_value, inplace=True)\n",
    "\n",
    "median_value = df_mental['DPQ050'].median()\n",
    "df_mental['DPQ050'].fillna(median_value, inplace=True)\n",
    "\n",
    "\n",
    "\n",
    "df_sleep=read_as_df('P_SLQ.XPT')[['SEQN','SLD012','SLQ300']]\n",
    "# SLD012 sleep hours, '.' is missing value\n",
    "# SLQ300 Usual sleep time on weekdays or workdays 77777 and 99999 are useless values, blank are missing value\n",
    "\n",
    "df_occuption=read_as_df('P_OCQ.XPT')[['SEQN','OCD150','OCQ180']]\n",
    "# OCD150 - Type of work done last week# 1 Working at a job or business, 2 With a job or business but not at work,\t3 Looking for work,4 Not working at a job or business\n",
    "# OCQ180 - Hours worked last week in total all jobs 77777, and 99999 are useless values\n"
   ]
  },
  {
   "cell_type": "code",
   "execution_count": 3,
   "metadata": {},
   "outputs": [
    {
     "data": {
      "text/plain": [
       "Index(['SEQN', 'RIDRETH3', 'DIQ010', 'DBQ700', 'DBD910', 'SMQ040', 'ALQ121',\n",
       "       'PAD615', 'PAD630', 'DR1TSUGR', 'DR1TSFAT', 'DPQ020', 'DPQ030',\n",
       "       'DPQ050', 'SLD012', 'SLQ300', 'OCD150', 'OCQ180'],\n",
       "      dtype='object')"
      ]
     },
     "execution_count": 3,
     "metadata": {},
     "output_type": "execute_result"
    }
   ],
   "source": [
    "df_all=pd.DataFrame()\n",
    "df_all=pd.merge(df_demo, df_diabetes, on='SEQN', how='outer')\n",
    "df_all=pd.merge(df_all, df_diet, on='SEQN', how='outer')\n",
    "df_all=pd.merge(df_all, df_smoke, on='SEQN', how='outer')\n",
    "df_all=pd.merge(df_all, df_alcohol, on='SEQN', how='outer')\n",
    "df_all=pd.merge(df_all, df_activity, on='SEQN', how='outer')\n",
    "df_all=pd.merge(df_all, df_nutri, on='SEQN', how='outer')\n",
    "df_all=pd.merge(df_all, df_mental, on='SEQN', how='outer')\n",
    "df_all=pd.merge(df_all, df_sleep, on='SEQN', how='outer')\n",
    "df_all=pd.merge(df_all, df_occuption, on='SEQN', how='outer')\n",
    "df_all.fillna(0, inplace=True)\n",
    "df_all.columns\n"
   ]
  },
  {
   "cell_type": "code",
   "execution_count": 5,
   "metadata": {},
   "outputs": [],
   "source": [
    "df_raced=[df_all[df_all['RIDRETH3']==i] for i in [1,2,3,4,6,7]]"
   ]
  },
  {
   "cell_type": "code",
   "execution_count": 17,
   "metadata": {},
   "outputs": [
    {
     "data": {
      "text/plain": [
       "<Axes: xlabel='PAD630'>"
      ]
     },
     "execution_count": 17,
     "metadata": {},
     "output_type": "execute_result"
    },
    {
     "data": {
      "image/png": "[encoded data removed]",
      "text/plain": [
       "<Figure size 640x480 with 1 Axes>"
      ]
     },
     "metadata": {},
     "output_type": "display_data"
    }
   ],
   "source": [
    "sb.boxplot(data=df_raced[3][df_raced[3]['DIQ010']==1.0],x='PAD630',showfliers=False)\n"
   ]
  },
  {
   "cell_type": "code",
   "execution_count": 18,
   "metadata": {},
   "outputs": [
    {
     "data": {
      "text/plain": [
       "<Axes: xlabel='PAD630'>"
      ]
     },
     "execution_count": 18,
     "metadata": {},
     "output_type": "execute_result"
    },
    {
     "data": {
      "image/png": "[encoded data removed]",
      "text/plain": [
       "<Figure size 640x480 with 1 Axes>"
      ]
     },
     "metadata": {},
     "output_type": "display_data"
    }
   ],
   "source": [
    "sb.boxplot(data=df_raced[1][df_raced[1]['DIQ010']==1.0],x='PAD630',showfliers=False)"
   ]
  }
 ],
 "metadata": {
  "kernelspec": {
   "display_name": "eecs448",
   "language": "python",
   "name": "python3"
  },
  "language_info": {
   "codemirror_mode": {
    "name": "ipython",
    "version": 3
   },
   "file_extension": ".py",
   "mimetype": "text/x-python",
   "name": "python",
   "nbconvert_exporter": "python",
   "pygments_lexer": "ipython3",
   "version": "3.10.13"
  }
 },
 "nbformat": 4,
 "nbformat_minor": 2
}
